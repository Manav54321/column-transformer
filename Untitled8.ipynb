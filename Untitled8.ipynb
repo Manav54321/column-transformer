{
 "cells": [
  {
   "cell_type": "code",
   "execution_count": 1,
   "id": "c075fb3e",
   "metadata": {},
   "outputs": [],
   "source": [
    "import pandas as pd\n",
    "import numpy as np"
   ]
  },
  {
   "cell_type": "code",
   "execution_count": 5,
   "id": "60c77173",
   "metadata": {},
   "outputs": [],
   "source": [
    "from sklearn.impute import SimpleImputer #handling the missing values\n",
    "from sklearn.preprocessing import OneHotEncoder\n",
    "from sklearn.preprocessing import OrdinalEncoder"
   ]
  },
  {
   "cell_type": "code",
   "execution_count": 6,
   "id": "375925a4",
   "metadata": {},
   "outputs": [],
   "source": [
    "df = pd.read_csv(\"covid_toy.csv\")"
   ]
  },
  {
   "cell_type": "code",
   "execution_count": 9,
   "id": "2a810d06",
   "metadata": {},
   "outputs": [
    {
     "data": {
      "text/html": [
       "<div>\n",
       "<style scoped>\n",
       "    .dataframe tbody tr th:only-of-type {\n",
       "        vertical-align: middle;\n",
       "    }\n",
       "\n",
       "    .dataframe tbody tr th {\n",
       "        vertical-align: top;\n",
       "    }\n",
       "\n",
       "    .dataframe thead th {\n",
       "        text-align: right;\n",
       "    }\n",
       "</style>\n",
       "<table border=\"1\" class=\"dataframe\">\n",
       "  <thead>\n",
       "    <tr style=\"text-align: right;\">\n",
       "      <th></th>\n",
       "      <th>age</th>\n",
       "      <th>gender</th>\n",
       "      <th>fever</th>\n",
       "      <th>cough</th>\n",
       "      <th>city</th>\n",
       "      <th>has_covid</th>\n",
       "    </tr>\n",
       "  </thead>\n",
       "  <tbody>\n",
       "    <tr>\n",
       "      <th>89</th>\n",
       "      <td>46</td>\n",
       "      <td>Male</td>\n",
       "      <td>103.0</td>\n",
       "      <td>Strong</td>\n",
       "      <td>Bangalore</td>\n",
       "      <td>No</td>\n",
       "    </tr>\n",
       "    <tr>\n",
       "      <th>56</th>\n",
       "      <td>71</td>\n",
       "      <td>Male</td>\n",
       "      <td>NaN</td>\n",
       "      <td>Strong</td>\n",
       "      <td>Kolkata</td>\n",
       "      <td>No</td>\n",
       "    </tr>\n",
       "    <tr>\n",
       "      <th>35</th>\n",
       "      <td>82</td>\n",
       "      <td>Female</td>\n",
       "      <td>102.0</td>\n",
       "      <td>Strong</td>\n",
       "      <td>Bangalore</td>\n",
       "      <td>No</td>\n",
       "    </tr>\n",
       "    <tr>\n",
       "      <th>7</th>\n",
       "      <td>20</td>\n",
       "      <td>Female</td>\n",
       "      <td>NaN</td>\n",
       "      <td>Strong</td>\n",
       "      <td>Mumbai</td>\n",
       "      <td>Yes</td>\n",
       "    </tr>\n",
       "    <tr>\n",
       "      <th>2</th>\n",
       "      <td>42</td>\n",
       "      <td>Male</td>\n",
       "      <td>101.0</td>\n",
       "      <td>Mild</td>\n",
       "      <td>Delhi</td>\n",
       "      <td>No</td>\n",
       "    </tr>\n",
       "  </tbody>\n",
       "</table>\n",
       "</div>"
      ],
      "text/plain": [
       "    age  gender  fever   cough       city has_covid\n",
       "89   46    Male  103.0  Strong  Bangalore        No\n",
       "56   71    Male    NaN  Strong    Kolkata        No\n",
       "35   82  Female  102.0  Strong  Bangalore        No\n",
       "7    20  Female    NaN  Strong     Mumbai       Yes\n",
       "2    42    Male  101.0    Mild      Delhi        No"
      ]
     },
     "execution_count": 9,
     "metadata": {},
     "output_type": "execute_result"
    }
   ],
   "source": [
    "df.sample(5)"
   ]
  },
  {
   "cell_type": "code",
   "execution_count": 13,
   "id": "f11f68aa",
   "metadata": {},
   "outputs": [
    {
     "data": {
      "text/plain": [
       "age           0\n",
       "gender        0\n",
       "fever        10\n",
       "cough         0\n",
       "city          0\n",
       "has_covid     0\n",
       "dtype: int64"
      ]
     },
     "execution_count": 13,
     "metadata": {},
     "output_type": "execute_result"
    }
   ],
   "source": [
    "df.isnull().sum()\n",
    "# 10 values missing in the fever column"
   ]
  },
  {
   "cell_type": "code",
   "execution_count": 18,
   "id": "e717902c",
   "metadata": {},
   "outputs": [],
   "source": [
    "from sklearn.model_selection import train_test_split\n",
    "x_train, x_test, y_train, y_test = train_test_split(df.iloc[:,0:6], df.iloc[:,-1], test_size = 0.2)    "
   ]
  },
  {
   "cell_type": "code",
   "execution_count": 22,
   "id": "fe6b69a8",
   "metadata": {},
   "outputs": [
    {
     "data": {
      "text/html": [
       "<div>\n",
       "<style scoped>\n",
       "    .dataframe tbody tr th:only-of-type {\n",
       "        vertical-align: middle;\n",
       "    }\n",
       "\n",
       "    .dataframe tbody tr th {\n",
       "        vertical-align: top;\n",
       "    }\n",
       "\n",
       "    .dataframe thead th {\n",
       "        text-align: right;\n",
       "    }\n",
       "</style>\n",
       "<table border=\"1\" class=\"dataframe\">\n",
       "  <thead>\n",
       "    <tr style=\"text-align: right;\">\n",
       "      <th></th>\n",
       "      <th>age</th>\n",
       "      <th>gender</th>\n",
       "      <th>fever</th>\n",
       "      <th>cough</th>\n",
       "      <th>city</th>\n",
       "      <th>has_covid</th>\n",
       "    </tr>\n",
       "  </thead>\n",
       "  <tbody>\n",
       "    <tr>\n",
       "      <th>46</th>\n",
       "      <td>19</td>\n",
       "      <td>Female</td>\n",
       "      <td>101.0</td>\n",
       "      <td>Mild</td>\n",
       "      <td>Mumbai</td>\n",
       "      <td>No</td>\n",
       "    </tr>\n",
       "    <tr>\n",
       "      <th>27</th>\n",
       "      <td>33</td>\n",
       "      <td>Female</td>\n",
       "      <td>102.0</td>\n",
       "      <td>Strong</td>\n",
       "      <td>Delhi</td>\n",
       "      <td>No</td>\n",
       "    </tr>\n",
       "    <tr>\n",
       "      <th>7</th>\n",
       "      <td>20</td>\n",
       "      <td>Female</td>\n",
       "      <td>NaN</td>\n",
       "      <td>Strong</td>\n",
       "      <td>Mumbai</td>\n",
       "      <td>Yes</td>\n",
       "    </tr>\n",
       "    <tr>\n",
       "      <th>79</th>\n",
       "      <td>48</td>\n",
       "      <td>Female</td>\n",
       "      <td>103.0</td>\n",
       "      <td>Mild</td>\n",
       "      <td>Kolkata</td>\n",
       "      <td>Yes</td>\n",
       "    </tr>\n",
       "    <tr>\n",
       "      <th>37</th>\n",
       "      <td>55</td>\n",
       "      <td>Male</td>\n",
       "      <td>100.0</td>\n",
       "      <td>Mild</td>\n",
       "      <td>Kolkata</td>\n",
       "      <td>No</td>\n",
       "    </tr>\n",
       "  </tbody>\n",
       "</table>\n",
       "</div>"
      ],
      "text/plain": [
       "    age  gender  fever   cough     city has_covid\n",
       "46   19  Female  101.0    Mild   Mumbai        No\n",
       "27   33  Female  102.0  Strong    Delhi        No\n",
       "7    20  Female    NaN  Strong   Mumbai       Yes\n",
       "79   48  Female  103.0    Mild  Kolkata       Yes\n",
       "37   55    Male  100.0    Mild  Kolkata        No"
      ]
     },
     "execution_count": 22,
     "metadata": {},
     "output_type": "execute_result"
    }
   ],
   "source": [
    "x_train.sample(5)"
   ]
  },
  {
   "cell_type": "code",
   "execution_count": 21,
   "id": "2c3161c4",
   "metadata": {},
   "outputs": [
    {
     "data": {
      "text/html": [
       "<div>\n",
       "<style scoped>\n",
       "    .dataframe tbody tr th:only-of-type {\n",
       "        vertical-align: middle;\n",
       "    }\n",
       "\n",
       "    .dataframe tbody tr th {\n",
       "        vertical-align: top;\n",
       "    }\n",
       "\n",
       "    .dataframe thead th {\n",
       "        text-align: right;\n",
       "    }\n",
       "</style>\n",
       "<table border=\"1\" class=\"dataframe\">\n",
       "  <thead>\n",
       "    <tr style=\"text-align: right;\">\n",
       "      <th></th>\n",
       "      <th>age</th>\n",
       "      <th>gender</th>\n",
       "      <th>fever</th>\n",
       "      <th>cough</th>\n",
       "      <th>city</th>\n",
       "      <th>has_covid</th>\n",
       "    </tr>\n",
       "  </thead>\n",
       "  <tbody>\n",
       "    <tr>\n",
       "      <th>53</th>\n",
       "      <td>83</td>\n",
       "      <td>Male</td>\n",
       "      <td>98.0</td>\n",
       "      <td>Mild</td>\n",
       "      <td>Delhi</td>\n",
       "      <td>Yes</td>\n",
       "    </tr>\n",
       "    <tr>\n",
       "      <th>43</th>\n",
       "      <td>22</td>\n",
       "      <td>Female</td>\n",
       "      <td>99.0</td>\n",
       "      <td>Mild</td>\n",
       "      <td>Bangalore</td>\n",
       "      <td>Yes</td>\n",
       "    </tr>\n",
       "    <tr>\n",
       "      <th>86</th>\n",
       "      <td>25</td>\n",
       "      <td>Male</td>\n",
       "      <td>104.0</td>\n",
       "      <td>Mild</td>\n",
       "      <td>Bangalore</td>\n",
       "      <td>Yes</td>\n",
       "    </tr>\n",
       "    <tr>\n",
       "      <th>59</th>\n",
       "      <td>6</td>\n",
       "      <td>Female</td>\n",
       "      <td>104.0</td>\n",
       "      <td>Mild</td>\n",
       "      <td>Kolkata</td>\n",
       "      <td>Yes</td>\n",
       "    </tr>\n",
       "    <tr>\n",
       "      <th>32</th>\n",
       "      <td>34</td>\n",
       "      <td>Female</td>\n",
       "      <td>101.0</td>\n",
       "      <td>Strong</td>\n",
       "      <td>Delhi</td>\n",
       "      <td>Yes</td>\n",
       "    </tr>\n",
       "  </tbody>\n",
       "</table>\n",
       "</div>"
      ],
      "text/plain": [
       "    age  gender  fever   cough       city has_covid\n",
       "53   83    Male   98.0    Mild      Delhi       Yes\n",
       "43   22  Female   99.0    Mild  Bangalore       Yes\n",
       "86   25    Male  104.0    Mild  Bangalore       Yes\n",
       "59    6  Female  104.0    Mild    Kolkata       Yes\n",
       "32   34  Female  101.0  Strong      Delhi       Yes"
      ]
     },
     "execution_count": 21,
     "metadata": {},
     "output_type": "execute_result"
    }
   ],
   "source": [
    "x_test.sample(5)"
   ]
  },
  {
   "cell_type": "code",
   "execution_count": 23,
   "id": "fd71e41a",
   "metadata": {},
   "outputs": [],
   "source": [
    "from sklearn.compose import ColumnTransformer"
   ]
  },
  {
   "cell_type": "code",
   "execution_count": 35,
   "id": "3d988921",
   "metadata": {},
   "outputs": [],
   "source": [
    "transformer = ColumnTransformer(transformers=[\n",
    "    (\"tnf1\", SimpleImputer(), [\"fever\"]),\n",
    "    (\"tnf2\", OrdinalEncoder(categories = [['Mild', 'Strong']]), [\"cough\"]),\n",
    "    (\"tnf3\", OneHotEncoder(sparse_output = False, drop = 'first'), [\"gender\", \"city\"])\n",
    "], remainder=\"passthrough\")"
   ]
  },
  {
   "cell_type": "code",
   "execution_count": 36,
   "id": "e6372ea1",
   "metadata": {},
   "outputs": [
    {
     "data": {
      "text/plain": [
       "array([[98.0, 1.0, 0.0, 0.0, 0.0, 1.0, 5, 'No'],\n",
       "       [98.0, 1.0, 0.0, 1.0, 0.0, 0.0, 40, 'No'],\n",
       "       [101.0, 1.0, 0.0, 0.0, 1.0, 0.0, 51, 'Yes'],\n",
       "       [99.0, 1.0, 0.0, 0.0, 0.0, 0.0, 49, 'No'],\n",
       "       [100.81944444444444, 0.0, 0.0, 1.0, 0.0, 0.0, 75, 'No'],\n",
       "       [99.0, 0.0, 1.0, 1.0, 0.0, 0.0, 65, 'No'],\n",
       "       [101.0, 0.0, 0.0, 0.0, 0.0, 1.0, 65, 'No'],\n",
       "       [98.0, 1.0, 0.0, 0.0, 0.0, 1.0, 81, 'No'],\n",
       "       [101.0, 0.0, 0.0, 0.0, 0.0, 0.0, 38, 'No'],\n",
       "       [102.0, 1.0, 0.0, 0.0, 0.0, 0.0, 24, 'Yes'],\n",
       "       [104.0, 0.0, 1.0, 0.0, 0.0, 1.0, 42, 'No'],\n",
       "       [98.0, 1.0, 1.0, 0.0, 0.0, 1.0, 23, 'Yes'],\n",
       "       [100.0, 0.0, 0.0, 0.0, 1.0, 0.0, 19, 'Yes'],\n",
       "       [100.81944444444444, 0.0, 1.0, 1.0, 0.0, 0.0, 38, 'Yes'],\n",
       "       [101.0, 0.0, 0.0, 0.0, 1.0, 0.0, 83, 'No'],\n",
       "       [100.81944444444444, 0.0, 1.0, 0.0, 1.0, 0.0, 82, 'Yes'],\n",
       "       [100.0, 0.0, 0.0, 0.0, 1.0, 0.0, 5, 'No'],\n",
       "       [101.0, 0.0, 0.0, 0.0, 0.0, 1.0, 81, 'Yes'],\n",
       "       [98.0, 1.0, 1.0, 0.0, 0.0, 0.0, 12, 'No'],\n",
       "       [102.0, 0.0, 0.0, 0.0, 0.0, 0.0, 69, 'No'],\n",
       "       [104.0, 0.0, 1.0, 0.0, 1.0, 0.0, 51, 'No'],\n",
       "       [101.0, 0.0, 1.0, 1.0, 0.0, 0.0, 15, 'Yes'],\n",
       "       [100.0, 1.0, 0.0, 0.0, 0.0, 0.0, 19, 'No'],\n",
       "       [104.0, 0.0, 0.0, 0.0, 1.0, 0.0, 17, 'No'],\n",
       "       [99.0, 0.0, 1.0, 0.0, 0.0, 0.0, 72, 'No'],\n",
       "       [104.0, 1.0, 0.0, 1.0, 0.0, 0.0, 34, 'No'],\n",
       "       [98.0, 1.0, 1.0, 0.0, 1.0, 0.0, 34, 'Yes'],\n",
       "       [98.0, 1.0, 0.0, 0.0, 1.0, 0.0, 10, 'Yes'],\n",
       "       [103.0, 0.0, 0.0, 1.0, 0.0, 0.0, 73, 'No'],\n",
       "       [101.0, 0.0, 0.0, 1.0, 0.0, 0.0, 49, 'Yes'],\n",
       "       [102.0, 0.0, 0.0, 1.0, 0.0, 0.0, 49, 'No'],\n",
       "       [100.0, 0.0, 1.0, 0.0, 0.0, 0.0, 11, 'Yes'],\n",
       "       [103.0, 0.0, 0.0, 0.0, 1.0, 0.0, 69, 'Yes'],\n",
       "       [103.0, 0.0, 1.0, 0.0, 1.0, 0.0, 60, 'No'],\n",
       "       [100.81944444444444, 1.0, 0.0, 0.0, 0.0, 0.0, 42, 'Yes'],\n",
       "       [102.0, 1.0, 0.0, 0.0, 1.0, 0.0, 82, 'No'],\n",
       "       [100.81944444444444, 1.0, 1.0, 0.0, 1.0, 0.0, 71, 'No'],\n",
       "       [98.0, 0.0, 0.0, 0.0, 0.0, 0.0, 64, 'Yes'],\n",
       "       [103.0, 0.0, 0.0, 0.0, 1.0, 0.0, 50, 'No'],\n",
       "       [104.0, 0.0, 0.0, 0.0, 0.0, 0.0, 12, 'No'],\n",
       "       [100.0, 0.0, 1.0, 1.0, 0.0, 0.0, 27, 'Yes'],\n",
       "       [104.0, 0.0, 1.0, 0.0, 0.0, 1.0, 44, 'No'],\n",
       "       [100.0, 1.0, 0.0, 0.0, 1.0, 0.0, 13, 'No'],\n",
       "       [99.0, 1.0, 0.0, 0.0, 1.0, 0.0, 25, 'No'],\n",
       "       [104.0, 0.0, 0.0, 0.0, 0.0, 0.0, 18, 'No'],\n",
       "       [100.0, 0.0, 1.0, 0.0, 1.0, 0.0, 27, 'Yes'],\n",
       "       [101.0, 1.0, 0.0, 1.0, 0.0, 0.0, 68, 'No'],\n",
       "       [100.0, 0.0, 1.0, 0.0, 1.0, 0.0, 55, 'No'],\n",
       "       [102.0, 1.0, 0.0, 1.0, 0.0, 0.0, 33, 'No'],\n",
       "       [103.0, 0.0, 0.0, 0.0, 1.0, 0.0, 48, 'Yes'],\n",
       "       [100.81944444444444, 0.0, 0.0, 0.0, 0.0, 0.0, 84, 'Yes'],\n",
       "       [100.0, 1.0, 0.0, 0.0, 1.0, 0.0, 11, 'Yes'],\n",
       "       [100.0, 0.0, 1.0, 1.0, 0.0, 0.0, 27, 'Yes'],\n",
       "       [100.0, 1.0, 0.0, 0.0, 0.0, 0.0, 47, 'Yes'],\n",
       "       [103.0, 1.0, 1.0, 0.0, 0.0, 0.0, 46, 'No'],\n",
       "       [103.0, 0.0, 1.0, 0.0, 1.0, 0.0, 83, 'No'],\n",
       "       [102.0, 1.0, 1.0, 1.0, 0.0, 0.0, 20, 'No'],\n",
       "       [100.0, 0.0, 1.0, 0.0, 0.0, 0.0, 80, 'Yes'],\n",
       "       [98.0, 0.0, 0.0, 0.0, 1.0, 0.0, 31, 'No'],\n",
       "       [101.0, 0.0, 0.0, 0.0, 1.0, 0.0, 8, 'No'],\n",
       "       [99.0, 0.0, 0.0, 0.0, 0.0, 1.0, 60, 'Yes'],\n",
       "       [100.81944444444444, 1.0, 0.0, 0.0, 0.0, 1.0, 20, 'Yes'],\n",
       "       [99.0, 0.0, 1.0, 0.0, 0.0, 0.0, 65, 'No'],\n",
       "       [98.0, 0.0, 0.0, 0.0, 1.0, 0.0, 26, 'No'],\n",
       "       [104.0, 0.0, 1.0, 0.0, 1.0, 0.0, 16, 'No'],\n",
       "       [101.0, 1.0, 1.0, 0.0, 0.0, 0.0, 47, 'No'],\n",
       "       [101.0, 0.0, 0.0, 0.0, 0.0, 1.0, 19, 'No'],\n",
       "       [102.0, 0.0, 1.0, 0.0, 0.0, 0.0, 64, 'Yes'],\n",
       "       [101.0, 0.0, 1.0, 1.0, 0.0, 0.0, 19, 'Yes'],\n",
       "       [100.81944444444444, 1.0, 1.0, 0.0, 1.0, 0.0, 79, 'Yes'],\n",
       "       [98.0, 0.0, 1.0, 0.0, 0.0, 0.0, 73, 'Yes'],\n",
       "       [104.0, 1.0, 0.0, 0.0, 0.0, 0.0, 56, 'Yes'],\n",
       "       [101.0, 0.0, 0.0, 1.0, 0.0, 0.0, 64, 'No'],\n",
       "       [98.0, 0.0, 1.0, 0.0, 1.0, 0.0, 24, 'Yes'],\n",
       "       [102.0, 0.0, 1.0, 0.0, 0.0, 1.0, 74, 'Yes'],\n",
       "       [104.0, 1.0, 0.0, 1.0, 0.0, 0.0, 75, 'No'],\n",
       "       [99.0, 1.0, 0.0, 1.0, 0.0, 0.0, 59, 'No'],\n",
       "       [103.0, 0.0, 0.0, 0.0, 0.0, 0.0, 16, 'Yes'],\n",
       "       [98.0, 1.0, 0.0, 0.0, 0.0, 1.0, 69, 'No'],\n",
       "       [99.0, 0.0, 0.0, 0.0, 0.0, 1.0, 14, 'Yes']], dtype=object)"
      ]
     },
     "execution_count": 36,
     "metadata": {},
     "output_type": "execute_result"
    }
   ],
   "source": [
    "transformer.fit_transform(x_train)"
   ]
  },
  {
   "cell_type": "code",
   "execution_count": 37,
   "id": "2b89d1f6",
   "metadata": {},
   "outputs": [
    {
     "data": {
      "text/plain": [
       "(80, 8)"
      ]
     },
     "execution_count": 37,
     "metadata": {},
     "output_type": "execute_result"
    }
   ],
   "source": [
    "transformer.fit_transform(x_train).shape"
   ]
  },
  {
   "cell_type": "code",
   "execution_count": 40,
   "id": "553c593f",
   "metadata": {},
   "outputs": [
    {
     "data": {
      "text/plain": [
       "(20, 8)"
      ]
     },
     "execution_count": 40,
     "metadata": {},
     "output_type": "execute_result"
    }
   ],
   "source": [
    "transformer.fit_transform(x_test).shape"
   ]
  },
  {
   "cell_type": "code",
   "execution_count": null,
   "id": "1c42f8c0",
   "metadata": {},
   "outputs": [],
   "source": []
  }
 ],
 "metadata": {
  "kernelspec": {
   "display_name": "Python 3 (ipykernel)",
   "language": "python",
   "name": "python3"
  },
  "language_info": {
   "codemirror_mode": {
    "name": "ipython",
    "version": 3
   },
   "file_extension": ".py",
   "mimetype": "text/x-python",
   "name": "python",
   "nbconvert_exporter": "python",
   "pygments_lexer": "ipython3",
   "version": "3.11.7"
  }
 },
 "nbformat": 4,
 "nbformat_minor": 5
}
